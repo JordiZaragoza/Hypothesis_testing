{
 "cells": [
  {
   "cell_type": "code",
   "execution_count": 21,
   "id": "67f8ea2a",
   "metadata": {},
   "outputs": [],
   "source": [
    "import pandas as pd\n",
    "import numpy as np\n",
    "import matplotlib.pyplot as plt\n",
    "import seaborn as sns\n",
    "%matplotlib inline\n",
    "\n",
    "from scipy.stats import ttest_1samp, ttest_ind, f_oneway\n",
    "from statsmodels.stats.multicomp import pairwise_tukeyhsd"
   ]
  },
  {
   "cell_type": "code",
   "execution_count": 30,
   "id": "dde186d1",
   "metadata": {
    "scrolled": true
   },
   "outputs": [
    {
     "data": {
      "text/html": [
       "<div>\n",
       "<style scoped>\n",
       "    .dataframe tbody tr th:only-of-type {\n",
       "        vertical-align: middle;\n",
       "    }\n",
       "\n",
       "    .dataframe tbody tr th {\n",
       "        vertical-align: top;\n",
       "    }\n",
       "\n",
       "    .dataframe thead th {\n",
       "        text-align: right;\n",
       "    }\n",
       "</style>\n",
       "<table border=\"1\" class=\"dataframe\">\n",
       "  <thead>\n",
       "    <tr style=\"text-align: right;\">\n",
       "      <th></th>\n",
       "      <th>bikerace</th>\n",
       "      <th>bikesex</th>\n",
       "      <th>bikeagegrp</th>\n",
       "      <th>rdconditio</th>\n",
       "      <th>drvrsex</th>\n",
       "      <th>crashmonth</th>\n",
       "      <th>crashday</th>\n",
       "      <th>bikeage</th>\n",
       "      <th>weather</th>\n",
       "    </tr>\n",
       "  </thead>\n",
       "  <tbody>\n",
       "    <tr>\n",
       "      <th>0</th>\n",
       "      <td>Hispanic</td>\n",
       "      <td>Male</td>\n",
       "      <td>20-24</td>\n",
       "      <td>Wet</td>\n",
       "      <td>Female</td>\n",
       "      <td>July</td>\n",
       "      <td>Wednesday</td>\n",
       "      <td>22</td>\n",
       "      <td>Cloudy</td>\n",
       "    </tr>\n",
       "    <tr>\n",
       "      <th>1</th>\n",
       "      <td>Black</td>\n",
       "      <td>Male</td>\n",
       "      <td>30-39</td>\n",
       "      <td>Dry</td>\n",
       "      <td>Male</td>\n",
       "      <td>August</td>\n",
       "      <td>Tuesday</td>\n",
       "      <td>31</td>\n",
       "      <td>Clear</td>\n",
       "    </tr>\n",
       "    <tr>\n",
       "      <th>2</th>\n",
       "      <td>White</td>\n",
       "      <td>Male</td>\n",
       "      <td>60-69</td>\n",
       "      <td>Dry</td>\n",
       "      <td>Female</td>\n",
       "      <td>September</td>\n",
       "      <td>Monday</td>\n",
       "      <td>66</td>\n",
       "      <td>Clear</td>\n",
       "    </tr>\n",
       "    <tr>\n",
       "      <th>3</th>\n",
       "      <td>White</td>\n",
       "      <td>Female</td>\n",
       "      <td>20-24</td>\n",
       "      <td>Dry</td>\n",
       "      <td>Unknown</td>\n",
       "      <td>August</td>\n",
       "      <td>Friday</td>\n",
       "      <td>20</td>\n",
       "      <td>Clear</td>\n",
       "    </tr>\n",
       "    <tr>\n",
       "      <th>4</th>\n",
       "      <td>Black</td>\n",
       "      <td>Male</td>\n",
       "      <td>nov-15</td>\n",
       "      <td>Dry</td>\n",
       "      <td>Female</td>\n",
       "      <td>August</td>\n",
       "      <td>Tuesday</td>\n",
       "      <td>11</td>\n",
       "      <td>Clear</td>\n",
       "    </tr>\n",
       "  </tbody>\n",
       "</table>\n",
       "</div>"
      ],
      "text/plain": [
       "   bikerace bikesex bikeagegrp rdconditio  drvrsex crashmonth   crashday  \\\n",
       "0  Hispanic    Male      20-24        Wet   Female       July  Wednesday   \n",
       "1     Black    Male      30-39        Dry     Male     August    Tuesday   \n",
       "2     White    Male      60-69        Dry   Female  September     Monday   \n",
       "3     White  Female      20-24        Dry  Unknown     August     Friday   \n",
       "4     Black    Male     nov-15        Dry   Female     August    Tuesday   \n",
       "\n",
       "   bikeage weather  \n",
       "0       22  Cloudy  \n",
       "1       31   Clear  \n",
       "2       66   Clear  \n",
       "3       20   Clear  \n",
       "4       11   Clear  "
      ]
     },
     "execution_count": 30,
     "metadata": {},
     "output_type": "execute_result"
    }
   ],
   "source": [
    "# seleccionamos un database de data.world que nos da informacion sobre accidentes en bicicleta en North Carolina\n",
    "# cargamos y seleccionamos las columnas que nos interesan\n",
    "\n",
    "crash_df = pd.read_csv('north-carolina-bicycle-crash-data_1.csv', \n",
    "                       sep=';', \n",
    "                       usecols=[2, 8, 17, 22, 29, 36, 42, 44, 59])\n",
    "crash_df.head()"
   ]
  },
  {
   "cell_type": "code",
   "execution_count": 31,
   "id": "a2f7cddc",
   "metadata": {
    "scrolled": true
   },
   "outputs": [
    {
     "data": {
      "text/html": [
       "<div>\n",
       "<style scoped>\n",
       "    .dataframe tbody tr th:only-of-type {\n",
       "        vertical-align: middle;\n",
       "    }\n",
       "\n",
       "    .dataframe tbody tr th {\n",
       "        vertical-align: top;\n",
       "    }\n",
       "\n",
       "    .dataframe thead th {\n",
       "        text-align: right;\n",
       "    }\n",
       "</style>\n",
       "<table border=\"1\" class=\"dataframe\">\n",
       "  <thead>\n",
       "    <tr style=\"text-align: right;\">\n",
       "      <th></th>\n",
       "      <th>bikeage</th>\n",
       "    </tr>\n",
       "  </thead>\n",
       "  <tbody>\n",
       "    <tr>\n",
       "      <th>count</th>\n",
       "      <td>7353.000000</td>\n",
       "    </tr>\n",
       "    <tr>\n",
       "      <th>mean</th>\n",
       "      <td>31.698082</td>\n",
       "    </tr>\n",
       "    <tr>\n",
       "      <th>std</th>\n",
       "      <td>17.287965</td>\n",
       "    </tr>\n",
       "    <tr>\n",
       "      <th>min</th>\n",
       "      <td>0.000000</td>\n",
       "    </tr>\n",
       "    <tr>\n",
       "      <th>25%</th>\n",
       "      <td>17.000000</td>\n",
       "    </tr>\n",
       "    <tr>\n",
       "      <th>50%</th>\n",
       "      <td>28.000000</td>\n",
       "    </tr>\n",
       "    <tr>\n",
       "      <th>75%</th>\n",
       "      <td>47.000000</td>\n",
       "    </tr>\n",
       "    <tr>\n",
       "      <th>max</th>\n",
       "      <td>70.000000</td>\n",
       "    </tr>\n",
       "  </tbody>\n",
       "</table>\n",
       "</div>"
      ],
      "text/plain": [
       "           bikeage\n",
       "count  7353.000000\n",
       "mean     31.698082\n",
       "std      17.287965\n",
       "min       0.000000\n",
       "25%      17.000000\n",
       "50%      28.000000\n",
       "75%      47.000000\n",
       "max      70.000000"
      ]
     },
     "execution_count": 31,
     "metadata": {},
     "output_type": "execute_result"
    }
   ],
   "source": [
    "crash_df.describe()"
   ]
  },
  {
   "cell_type": "code",
   "execution_count": 32,
   "id": "f990773f",
   "metadata": {
    "scrolled": true
   },
   "outputs": [
    {
     "name": "stdout",
     "output_type": "stream",
     "text": [
      "<class 'pandas.core.frame.DataFrame'>\n",
      "RangeIndex: 7353 entries, 0 to 7352\n",
      "Data columns (total 9 columns):\n",
      " #   Column      Non-Null Count  Dtype \n",
      "---  ------      --------------  ----- \n",
      " 0   bikerace    7353 non-null   object\n",
      " 1   bikesex     7353 non-null   object\n",
      " 2   bikeagegrp  7353 non-null   object\n",
      " 3   rdconditio  7353 non-null   object\n",
      " 4   drvrsex     7353 non-null   object\n",
      " 5   crashmonth  7353 non-null   object\n",
      " 6   crashday    7353 non-null   object\n",
      " 7   bikeage     7353 non-null   int64 \n",
      " 8   weather     7353 non-null   object\n",
      "dtypes: int64(1), object(8)\n",
      "memory usage: 517.1+ KB\n"
     ]
    }
   ],
   "source": [
    "crash_df.info()"
   ]
  },
  {
   "cell_type": "code",
   "execution_count": 33,
   "id": "03ed4ae4",
   "metadata": {
    "scrolled": true
   },
   "outputs": [
    {
     "data": {
      "text/html": [
       "<div>\n",
       "<style scoped>\n",
       "    .dataframe tbody tr th:only-of-type {\n",
       "        vertical-align: middle;\n",
       "    }\n",
       "\n",
       "    .dataframe tbody tr th {\n",
       "        vertical-align: top;\n",
       "    }\n",
       "\n",
       "    .dataframe thead th {\n",
       "        text-align: right;\n",
       "    }\n",
       "</style>\n",
       "<table border=\"1\" class=\"dataframe\">\n",
       "  <thead>\n",
       "    <tr style=\"text-align: right;\">\n",
       "      <th></th>\n",
       "      <th>bikerace</th>\n",
       "      <th>bikesex</th>\n",
       "      <th>bikeagegrp</th>\n",
       "      <th>rdconditio</th>\n",
       "      <th>drvrsex</th>\n",
       "      <th>crashmonth</th>\n",
       "      <th>crashday</th>\n",
       "      <th>bikeage</th>\n",
       "      <th>weather</th>\n",
       "    </tr>\n",
       "  </thead>\n",
       "  <tbody>\n",
       "    <tr>\n",
       "      <th>2740</th>\n",
       "      <td>White</td>\n",
       "      <td>Male</td>\n",
       "      <td>0-5</td>\n",
       "      <td>Dry</td>\n",
       "      <td>Male</td>\n",
       "      <td>October</td>\n",
       "      <td>Friday</td>\n",
       "      <td>0</td>\n",
       "      <td>Clear</td>\n",
       "    </tr>\n",
       "    <tr>\n",
       "      <th>65</th>\n",
       "      <td>White</td>\n",
       "      <td>Male</td>\n",
       "      <td>0-5</td>\n",
       "      <td>Dry</td>\n",
       "      <td>Male</td>\n",
       "      <td>October</td>\n",
       "      <td>Wednesday</td>\n",
       "      <td>1</td>\n",
       "      <td>Clear</td>\n",
       "    </tr>\n",
       "    <tr>\n",
       "      <th>1129</th>\n",
       "      <td>White</td>\n",
       "      <td>Female</td>\n",
       "      <td>0-5</td>\n",
       "      <td>Dry</td>\n",
       "      <td>Male</td>\n",
       "      <td>May</td>\n",
       "      <td>Monday</td>\n",
       "      <td>1</td>\n",
       "      <td>Cloudy</td>\n",
       "    </tr>\n",
       "    <tr>\n",
       "      <th>5127</th>\n",
       "      <td>Other</td>\n",
       "      <td>Female</td>\n",
       "      <td>0-5</td>\n",
       "      <td>Dry</td>\n",
       "      <td>Unknown</td>\n",
       "      <td>November</td>\n",
       "      <td>Monday</td>\n",
       "      <td>2</td>\n",
       "      <td>Clear</td>\n",
       "    </tr>\n",
       "    <tr>\n",
       "      <th>657</th>\n",
       "      <td>Black</td>\n",
       "      <td>Male</td>\n",
       "      <td>0-5</td>\n",
       "      <td>Unknown</td>\n",
       "      <td>Unknown</td>\n",
       "      <td>August</td>\n",
       "      <td>Wednesday</td>\n",
       "      <td>2</td>\n",
       "      <td>Other</td>\n",
       "    </tr>\n",
       "    <tr>\n",
       "      <th>...</th>\n",
       "      <td>...</td>\n",
       "      <td>...</td>\n",
       "      <td>...</td>\n",
       "      <td>...</td>\n",
       "      <td>...</td>\n",
       "      <td>...</td>\n",
       "      <td>...</td>\n",
       "      <td>...</td>\n",
       "      <td>...</td>\n",
       "    </tr>\n",
       "    <tr>\n",
       "      <th>3084</th>\n",
       "      <td>White</td>\n",
       "      <td>Male</td>\n",
       "      <td>70+</td>\n",
       "      <td>Dry</td>\n",
       "      <td>Female</td>\n",
       "      <td>September</td>\n",
       "      <td>Friday</td>\n",
       "      <td>70</td>\n",
       "      <td>Clear</td>\n",
       "    </tr>\n",
       "    <tr>\n",
       "      <th>3974</th>\n",
       "      <td>White</td>\n",
       "      <td>Female</td>\n",
       "      <td>70+</td>\n",
       "      <td>Sand, Mud, Dirt, Gravel</td>\n",
       "      <td>Male</td>\n",
       "      <td>June</td>\n",
       "      <td>Monday</td>\n",
       "      <td>70</td>\n",
       "      <td>Clear</td>\n",
       "    </tr>\n",
       "    <tr>\n",
       "      <th>4074</th>\n",
       "      <td>Black</td>\n",
       "      <td>Male</td>\n",
       "      <td>70+</td>\n",
       "      <td>Dry</td>\n",
       "      <td>Female</td>\n",
       "      <td>August</td>\n",
       "      <td>Friday</td>\n",
       "      <td>70</td>\n",
       "      <td>Cloudy</td>\n",
       "    </tr>\n",
       "    <tr>\n",
       "      <th>589</th>\n",
       "      <td>White</td>\n",
       "      <td>Male</td>\n",
       "      <td>70+</td>\n",
       "      <td>Dry</td>\n",
       "      <td>Female</td>\n",
       "      <td>April</td>\n",
       "      <td>Tuesday</td>\n",
       "      <td>70</td>\n",
       "      <td>Clear</td>\n",
       "    </tr>\n",
       "    <tr>\n",
       "      <th>6630</th>\n",
       "      <td>White</td>\n",
       "      <td>Male</td>\n",
       "      <td>70+</td>\n",
       "      <td>Dry</td>\n",
       "      <td>Female</td>\n",
       "      <td>August</td>\n",
       "      <td>Thursday</td>\n",
       "      <td>70</td>\n",
       "      <td>Clear</td>\n",
       "    </tr>\n",
       "  </tbody>\n",
       "</table>\n",
       "<p>7353 rows × 9 columns</p>\n",
       "</div>"
      ],
      "text/plain": [
       "     bikerace bikesex bikeagegrp               rdconditio  drvrsex crashmonth  \\\n",
       "2740    White    Male        0-5                      Dry     Male    October   \n",
       "65      White    Male        0-5                      Dry     Male    October   \n",
       "1129    White  Female        0-5                      Dry     Male        May   \n",
       "5127    Other  Female        0-5                      Dry  Unknown   November   \n",
       "657     Black    Male        0-5                  Unknown  Unknown     August   \n",
       "...       ...     ...        ...                      ...      ...        ...   \n",
       "3084    White    Male        70+                      Dry   Female  September   \n",
       "3974    White  Female        70+  Sand, Mud, Dirt, Gravel     Male       June   \n",
       "4074    Black    Male        70+                      Dry   Female     August   \n",
       "589     White    Male        70+                      Dry   Female      April   \n",
       "6630    White    Male        70+                      Dry   Female     August   \n",
       "\n",
       "       crashday  bikeage weather  \n",
       "2740     Friday        0   Clear  \n",
       "65    Wednesday        1   Clear  \n",
       "1129     Monday        1  Cloudy  \n",
       "5127     Monday        2   Clear  \n",
       "657   Wednesday        2   Other  \n",
       "...         ...      ...     ...  \n",
       "3084     Friday       70   Clear  \n",
       "3974     Monday       70   Clear  \n",
       "4074     Friday       70  Cloudy  \n",
       "589     Tuesday       70   Clear  \n",
       "6630   Thursday       70   Clear  \n",
       "\n",
       "[7353 rows x 9 columns]"
      ]
     },
     "execution_count": 33,
     "metadata": {},
     "output_type": "execute_result"
    }
   ],
   "source": [
    "# ordenamos el dataset por las edades de los accidentados\n",
    "\n",
    "crash_df = crash_df.sort_values(['bikeage'])\n",
    "crash_df"
   ]
  },
  {
   "cell_type": "markdown",
   "id": "a6d54dd6",
   "metadata": {},
   "source": [
    "# Nivel 1"
   ]
  },
  {
   "cell_type": "markdown",
   "id": "6ce76002",
   "metadata": {},
   "source": [
    "## Ejercicio 1"
   ]
  },
  {
   "cell_type": "markdown",
   "id": "83a0d953",
   "metadata": {},
   "source": [
    "#### Escoge un conjunto de datos de tema deportivo que te guste y selecciona un atributo del conjunto de datos.\n",
    "#### Calcula el p-valor y di si rechaza la hipotesis nula cogiendo un alfa del 5%"
   ]
  },
  {
   "cell_type": "code",
   "execution_count": 34,
   "id": "0b099a30",
   "metadata": {
    "scrolled": true
   },
   "outputs": [
    {
     "data": {
      "text/plain": [
       "Text(0.5, 0, 'Edad')"
      ]
     },
     "execution_count": 34,
     "metadata": {},
     "output_type": "execute_result"
    },
    {
     "data": {
      "image/png": "[encoded data removed]",
      "text/plain": [
       "<Figure size 1152x432 with 1 Axes>"
      ]
     },
     "metadata": {
      "needs_background": "light"
     },
     "output_type": "display_data"
    }
   ],
   "source": [
    "# Histograma de las edades de los accidentados\n",
    "\n",
    "plt.figure(figsize=(16, 6))\n",
    "sns.histplot(data=crash_df, x='bikeage')\n",
    "\n",
    "plt.title('Histograma de las edades de los accidentados')\n",
    "plt.xlabel('Edad')"
   ]
  },
  {
   "cell_type": "code",
   "execution_count": 18,
   "id": "bdccbd18",
   "metadata": {},
   "outputs": [],
   "source": [
    "# funcion media\n",
    "\n",
    "def mean(dataset):\n",
    "    return sum(dataset) / len(dataset)"
   ]
  },
  {
   "cell_type": "code",
   "execution_count": 35,
   "id": "9ff4cfc7",
   "metadata": {},
   "outputs": [
    {
     "name": "stdout",
     "output_type": "stream",
     "text": [
      "31.69808241534068\n"
     ]
    }
   ],
   "source": [
    "# calculamos la media de edad de los accidentados\n",
    "\n",
    "print(mean(crash_df['bikeage']))"
   ]
  },
  {
   "cell_type": "markdown",
   "id": "efba22f4",
   "metadata": {},
   "source": [
    "Hipotesis:\n",
    "\n",
    "- Hipotesis Nula: La edad media de accidentados es de 31 años.\n",
    "- Hipotesis Alternativa: La edad media de accidentados no es de 31 años."
   ]
  },
  {
   "cell_type": "code",
   "execution_count": 36,
   "id": "3bad03dc",
   "metadata": {},
   "outputs": [
    {
     "name": "stdout",
     "output_type": "stream",
     "text": [
      "t-statistic = 3.463\n",
      "p-value = 0.001\n",
      "Rechaza la Hipotesis Nula\n"
     ]
    }
   ],
   "source": [
    "# Utilizamos 1 sample t-test\n",
    "\n",
    "alpha = 0.05\n",
    "\n",
    "stat, p = ttest_1samp(crash_df['bikeage'].dropna(), popmean=31)\n",
    "\n",
    "print(f't-statistic = {stat:.3f}\\np-value = {p:.3f}')\n",
    "print('No rechaza la Hipotesis Nula') if p > alpha else print('Rechaza la Hipotesis Nula')"
   ]
  },
  {
   "cell_type": "markdown",
   "id": "1036c927",
   "metadata": {},
   "source": [
    "# Nivel 2"
   ]
  },
  {
   "cell_type": "markdown",
   "id": "fc72b93a",
   "metadata": {},
   "source": [
    "## Ejercicio 2"
   ]
  },
  {
   "cell_type": "markdown",
   "id": "5d3df220",
   "metadata": {},
   "source": [
    "#### Continua con el conjunto de datos de tema deportivo que te guste y selecciona dos otros atributos del conjunto de datos \n",
    "#### Calcula los p-valores y di si rechazan la hipotesis nula cogiendo un alfa del 5%"
   ]
  },
  {
   "cell_type": "code",
   "execution_count": 37,
   "id": "489e5d7a",
   "metadata": {},
   "outputs": [],
   "source": [
    "# Convertimos en categorica la columna bikesex\n",
    "\n",
    "crash_df['bikesex'] = crash_df['bikesex'].astype('category')"
   ]
  },
  {
   "cell_type": "code",
   "execution_count": 38,
   "id": "4c7d7c55",
   "metadata": {},
   "outputs": [
    {
     "data": {
      "text/html": [
       "<div>\n",
       "<style scoped>\n",
       "    .dataframe tbody tr th:only-of-type {\n",
       "        vertical-align: middle;\n",
       "    }\n",
       "\n",
       "    .dataframe tbody tr th {\n",
       "        vertical-align: top;\n",
       "    }\n",
       "\n",
       "    .dataframe thead th {\n",
       "        text-align: right;\n",
       "    }\n",
       "</style>\n",
       "<table border=\"1\" class=\"dataframe\">\n",
       "  <thead>\n",
       "    <tr style=\"text-align: right;\">\n",
       "      <th></th>\n",
       "      <th>bikerace</th>\n",
       "      <th>bikesex</th>\n",
       "      <th>bikeagegrp</th>\n",
       "      <th>rdconditio</th>\n",
       "      <th>drvrsex</th>\n",
       "      <th>crashmonth</th>\n",
       "      <th>crashday</th>\n",
       "      <th>bikeage</th>\n",
       "      <th>weather</th>\n",
       "    </tr>\n",
       "  </thead>\n",
       "  <tbody>\n",
       "    <tr>\n",
       "      <th>2740</th>\n",
       "      <td>White</td>\n",
       "      <td>Male</td>\n",
       "      <td>0-5</td>\n",
       "      <td>Dry</td>\n",
       "      <td>Male</td>\n",
       "      <td>October</td>\n",
       "      <td>Friday</td>\n",
       "      <td>0</td>\n",
       "      <td>Clear</td>\n",
       "    </tr>\n",
       "    <tr>\n",
       "      <th>65</th>\n",
       "      <td>White</td>\n",
       "      <td>Male</td>\n",
       "      <td>0-5</td>\n",
       "      <td>Dry</td>\n",
       "      <td>Male</td>\n",
       "      <td>October</td>\n",
       "      <td>Wednesday</td>\n",
       "      <td>1</td>\n",
       "      <td>Clear</td>\n",
       "    </tr>\n",
       "    <tr>\n",
       "      <th>1129</th>\n",
       "      <td>White</td>\n",
       "      <td>Female</td>\n",
       "      <td>0-5</td>\n",
       "      <td>Dry</td>\n",
       "      <td>Male</td>\n",
       "      <td>May</td>\n",
       "      <td>Monday</td>\n",
       "      <td>1</td>\n",
       "      <td>Cloudy</td>\n",
       "    </tr>\n",
       "    <tr>\n",
       "      <th>5127</th>\n",
       "      <td>Other</td>\n",
       "      <td>Female</td>\n",
       "      <td>0-5</td>\n",
       "      <td>Dry</td>\n",
       "      <td>Unknown</td>\n",
       "      <td>November</td>\n",
       "      <td>Monday</td>\n",
       "      <td>2</td>\n",
       "      <td>Clear</td>\n",
       "    </tr>\n",
       "    <tr>\n",
       "      <th>657</th>\n",
       "      <td>Black</td>\n",
       "      <td>Male</td>\n",
       "      <td>0-5</td>\n",
       "      <td>Unknown</td>\n",
       "      <td>Unknown</td>\n",
       "      <td>August</td>\n",
       "      <td>Wednesday</td>\n",
       "      <td>2</td>\n",
       "      <td>Other</td>\n",
       "    </tr>\n",
       "    <tr>\n",
       "      <th>...</th>\n",
       "      <td>...</td>\n",
       "      <td>...</td>\n",
       "      <td>...</td>\n",
       "      <td>...</td>\n",
       "      <td>...</td>\n",
       "      <td>...</td>\n",
       "      <td>...</td>\n",
       "      <td>...</td>\n",
       "      <td>...</td>\n",
       "    </tr>\n",
       "    <tr>\n",
       "      <th>3084</th>\n",
       "      <td>White</td>\n",
       "      <td>Male</td>\n",
       "      <td>70+</td>\n",
       "      <td>Dry</td>\n",
       "      <td>Female</td>\n",
       "      <td>September</td>\n",
       "      <td>Friday</td>\n",
       "      <td>70</td>\n",
       "      <td>Clear</td>\n",
       "    </tr>\n",
       "    <tr>\n",
       "      <th>3974</th>\n",
       "      <td>White</td>\n",
       "      <td>Female</td>\n",
       "      <td>70+</td>\n",
       "      <td>Sand, Mud, Dirt, Gravel</td>\n",
       "      <td>Male</td>\n",
       "      <td>June</td>\n",
       "      <td>Monday</td>\n",
       "      <td>70</td>\n",
       "      <td>Clear</td>\n",
       "    </tr>\n",
       "    <tr>\n",
       "      <th>4074</th>\n",
       "      <td>Black</td>\n",
       "      <td>Male</td>\n",
       "      <td>70+</td>\n",
       "      <td>Dry</td>\n",
       "      <td>Female</td>\n",
       "      <td>August</td>\n",
       "      <td>Friday</td>\n",
       "      <td>70</td>\n",
       "      <td>Cloudy</td>\n",
       "    </tr>\n",
       "    <tr>\n",
       "      <th>589</th>\n",
       "      <td>White</td>\n",
       "      <td>Male</td>\n",
       "      <td>70+</td>\n",
       "      <td>Dry</td>\n",
       "      <td>Female</td>\n",
       "      <td>April</td>\n",
       "      <td>Tuesday</td>\n",
       "      <td>70</td>\n",
       "      <td>Clear</td>\n",
       "    </tr>\n",
       "    <tr>\n",
       "      <th>6630</th>\n",
       "      <td>White</td>\n",
       "      <td>Male</td>\n",
       "      <td>70+</td>\n",
       "      <td>Dry</td>\n",
       "      <td>Female</td>\n",
       "      <td>August</td>\n",
       "      <td>Thursday</td>\n",
       "      <td>70</td>\n",
       "      <td>Clear</td>\n",
       "    </tr>\n",
       "  </tbody>\n",
       "</table>\n",
       "<p>7323 rows × 9 columns</p>\n",
       "</div>"
      ],
      "text/plain": [
       "     bikerace bikesex bikeagegrp               rdconditio  drvrsex crashmonth  \\\n",
       "2740    White    Male        0-5                      Dry     Male    October   \n",
       "65      White    Male        0-5                      Dry     Male    October   \n",
       "1129    White  Female        0-5                      Dry     Male        May   \n",
       "5127    Other  Female        0-5                      Dry  Unknown   November   \n",
       "657     Black    Male        0-5                  Unknown  Unknown     August   \n",
       "...       ...     ...        ...                      ...      ...        ...   \n",
       "3084    White    Male        70+                      Dry   Female  September   \n",
       "3974    White  Female        70+  Sand, Mud, Dirt, Gravel     Male       June   \n",
       "4074    Black    Male        70+                      Dry   Female     August   \n",
       "589     White    Male        70+                      Dry   Female      April   \n",
       "6630    White    Male        70+                      Dry   Female     August   \n",
       "\n",
       "       crashday  bikeage weather  \n",
       "2740     Friday        0   Clear  \n",
       "65    Wednesday        1   Clear  \n",
       "1129     Monday        1  Cloudy  \n",
       "5127     Monday        2   Clear  \n",
       "657   Wednesday        2   Other  \n",
       "...         ...      ...     ...  \n",
       "3084     Friday       70   Clear  \n",
       "3974     Monday       70   Clear  \n",
       "4074     Friday       70  Cloudy  \n",
       "589     Tuesday       70   Clear  \n",
       "6630   Thursday       70   Clear  \n",
       "\n",
       "[7323 rows x 9 columns]"
      ]
     },
     "execution_count": 38,
     "metadata": {},
     "output_type": "execute_result"
    }
   ],
   "source": [
    "# Cogemos los nombres de la columna bikeage que tienen el valor Unknown\n",
    "\n",
    "indexNames = crash_df[ crash_df['bikesex'] == 'Unknown' ].index\n",
    "\n",
    "# Borramos esas filas del dataFrame\n",
    "\n",
    "crash_df.drop(indexNames , inplace=True)\n",
    "crash_df"
   ]
  },
  {
   "cell_type": "code",
   "execution_count": 39,
   "id": "e826e27a",
   "metadata": {},
   "outputs": [
    {
     "data": {
      "text/plain": [
       "Text(0.5, 0, 'Edad')"
      ]
     },
     "execution_count": 39,
     "metadata": {},
     "output_type": "execute_result"
    },
    {
     "data": {
      "image/png": "[encoded data removed]",
      "text/plain": [
       "<Figure size 1152x432 with 1 Axes>"
      ]
     },
     "metadata": {
      "needs_background": "light"
     },
     "output_type": "display_data"
    }
   ],
   "source": [
    "# Histograma de la distribucion de edades segun el genero \n",
    "\n",
    "plt.figure(figsize=(16, 6))\n",
    "sns.histplot(data=crash_df, x='bikeage', hue='bikesex')\n",
    "\n",
    "plt.title('Histograma de las edades de los accidentados separados por genero')\n",
    "plt.xlabel('Edad')"
   ]
  },
  {
   "cell_type": "code",
   "execution_count": 40,
   "id": "4ca269f5",
   "metadata": {},
   "outputs": [
    {
     "data": {
      "text/plain": [
       "Male       6249\n",
       "Female     1074\n",
       "Unknown       0\n",
       "Name: bikesex, dtype: int64"
      ]
     },
     "execution_count": 40,
     "metadata": {},
     "output_type": "execute_result"
    }
   ],
   "source": [
    "crash_df['bikesex'].value_counts()"
   ]
  },
  {
   "cell_type": "markdown",
   "id": "5cb5ff23",
   "metadata": {},
   "source": [
    "Hipotesis:\n",
    "\n",
    "- Hipotesis Nula: La edad media de accidentados hombres, ES IGUAL a la de las accidentadas mujeres.\n",
    "- Hipotesis Alternativa: La edad media de los accidentados hombres, NO ES IGUAL que la de las accidentadas mujeres."
   ]
  },
  {
   "cell_type": "code",
   "execution_count": 42,
   "id": "23751203",
   "metadata": {},
   "outputs": [
    {
     "name": "stdout",
     "output_type": "stream",
     "text": [
      "t-statistic = 8.087\n",
      "p-value = 0.000\n",
      "Rechaza la Hipotesis Nula\n"
     ]
    }
   ],
   "source": [
    "# Utilizamos la prueba 2-tailed Welchs' t-test\n",
    "\n",
    "alfa = 0.05\n",
    "\n",
    "male_age = crash_df.loc[crash_df['bikesex'] == 'Male','bikeage'].dropna()\n",
    "female_age = crash_df.loc[crash_df['bikesex'] == 'Female','bikeage'].dropna()\n",
    "\n",
    "stat, p = ttest_ind(male_age,female_age, alternative='two-sided', equal_var=False)\n",
    "\n",
    "print(f't-statistic = {stat:.3f}\\np-value = {p:.3f}')\n",
    "print('No rechaza la Hipotesis Nula') if p > alpha else print('Rechaza la Hipotesis Nula')"
   ]
  }
 ],
 "metadata": {
  "kernelspec": {
   "display_name": "Python 3",
   "language": "python",
   "name": "python3"
  },
  "language_info": {
   "codemirror_mode": {
    "name": "ipython",
    "version": 3
   },
   "file_extension": ".py",
   "mimetype": "text/x-python",
   "name": "python",
   "nbconvert_exporter": "python",
   "pygments_lexer": "ipython3",
   "version": "3.8.8"
  }
 },
 "nbformat": 4,
 "nbformat_minor": 5
}
